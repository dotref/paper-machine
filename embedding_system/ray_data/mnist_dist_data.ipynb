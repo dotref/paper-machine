{
 "cells": [
  {
   "cell_type": "code",
   "execution_count": 1,
   "metadata": {},
   "outputs": [],
   "source": [
    "import json\n",
    "import logging\n",
    "import os\n",
    "import sys\n",
    "from time import time\n",
    "from typing import List, Dict, Any, Tuple\n",
    "\n",
    "import numpy as np\n",
    "import ray\n",
    "import torch\n",
    "from torchvision import transforms\n",
    "\n",
    "import data_utilities as du"
   ]
  },
  {
   "cell_type": "markdown",
   "metadata": {},
   "source": [
    "### Ray Data"
   ]
  },
  {
   "cell_type": "code",
   "execution_count": 2,
   "metadata": {},
   "outputs": [
    {
     "name": "stdout",
     "output_type": "stream",
     "text": [
      "23774 2023-12-04 08:08:51,221 | INFO | get_train_test_data called. smoke_test_size: 0\n",
      "Training set size:  60000\n",
      "Test set size: 10000\n",
      "Load time (seconds): 20.208586931228638\n"
     ]
    }
   ],
   "source": [
    "# Load the credentials and connection information.\n",
    "with open('credentials.json') as f:\n",
    "    credentials = json.load(f)\n",
    "\n",
    "os.environ['MINIO_URL'] = credentials['url']\n",
    "os.environ['MINIO_ACCESS_KEY'] = credentials['accessKey']\n",
    "os.environ['MINIO_SECRET_ACCESS_KEY'] = credentials['secretKey']\n",
    "\n",
    "X_train, y_train, X_test, y_test, load_time_sec = du.get_train_test_data()\n",
    "\n",
    "print('Training set size: ', len(X_train))\n",
    "print('Test set size:', len(X_test))\n",
    "print('Load time (seconds):', load_time_sec)"
   ]
  },
  {
   "cell_type": "code",
   "execution_count": 3,
   "metadata": {},
   "outputs": [
    {
     "name": "stdout",
     "output_type": "stream",
     "text": [
      "Training sample: train/0/000c2bff-4fa5-4e95-b90a-e39be79cf5e7.jpeg\n",
      "Label for sample: 0\n"
     ]
    }
   ],
   "source": [
    "print('Training sample:', X_train[0])\n",
    "print('Label for sample:', y_train[0])"
   ]
  },
  {
   "cell_type": "code",
   "execution_count": 4,
   "metadata": {},
   "outputs": [
    {
     "name": "stderr",
     "output_type": "stream",
     "text": [
      "2023-12-04 08:09:13,430\tINFO worker.py:1664 -- Started a local Ray instance. View the dashboard at \u001b[1m\u001b[32mhttp://127.0.0.1:8265 \u001b[39m\u001b[22m\n"
     ]
    },
    {
     "data": {
      "text/plain": [
       "ray.data.dataset.MaterializedDataset"
      ]
     },
     "execution_count": 4,
     "metadata": {},
     "output_type": "execute_result"
    }
   ],
   "source": [
    "train_dict_list = [{'X': X_train[i], 'y': y_train[i]} for i in range(len(X_train))]\n",
    "test_dict_list = [{'X': X_test[i], 'y': y_test[i]} for i in range(len(X_test))]\n",
    "train_data = ray.data.from_items(train_dict_list, parallelism=5)\n",
    "test_data = ray.data.from_items(test_dict_list, parallelism=5)\n",
    "type(train_data)"
   ]
  },
  {
   "cell_type": "code",
   "execution_count": 5,
   "metadata": {},
   "outputs": [
    {
     "name": "stderr",
     "output_type": "stream",
     "text": [
      "2023-12-04 08:09:14,122\tINFO dataset.py:2383 -- Tip: Use `take_batch()` instead of `take() / show()` to return records in pandas or numpy batch format.\n",
      "2023-12-04 08:09:14,124\tINFO streaming_executor.py:104 -- Executing DAG InputDataBuffer[Input] -> LimitOperator[limit=3]\n",
      "2023-12-04 08:09:14,125\tINFO streaming_executor.py:105 -- Execution config: ExecutionOptions(resource_limits=ExecutionResources(cpu=None, gpu=None, object_store_memory=None), locality_with_output=False, preserve_order=False, actor_locality_enabled=True, verbose_progress=True)\n"
     ]
    },
    {
     "data": {
      "application/vnd.jupyter.widget-view+json": {
       "model_id": "bc73ad72128b4ed4a7e35e84998d465d",
       "version_major": 2,
       "version_minor": 0
      },
      "text/plain": [
       "- limit=3 1:   0%|          | 0/5 [00:00<?, ?it/s]"
      ]
     },
     "metadata": {},
     "output_type": "display_data"
    },
    {
     "data": {
      "application/vnd.jupyter.widget-view+json": {
       "model_id": "7588a55c895f4ffaabd8400ec3b9cb95",
       "version_major": 2,
       "version_minor": 0
      },
      "text/plain": [
       "Running 0:   0%|          | 0/5 [00:00<?, ?it/s]"
      ]
     },
     "metadata": {},
     "output_type": "display_data"
    },
    {
     "data": {
      "text/plain": [
       "[{'X': 'train/0/000c2bff-4fa5-4e95-b90a-e39be79cf5e7.jpeg', 'y': 0},\n",
       " {'X': 'train/0/00143885-bede-4b19-8ef0-99135c8f2290.jpeg', 'y': 0},\n",
       " {'X': 'train/0/00289886-490f-4966-ada8-2bfe1e165aa9.jpeg', 'y': 0}]"
      ]
     },
     "execution_count": 5,
     "metadata": {},
     "output_type": "execute_result"
    }
   ],
   "source": [
    "ray.data.DataContext.get_current().execution_options.verbose_progress = True\n",
    "rows = train_data.take(3)\n",
    "rows"
   ]
  },
  {
   "cell_type": "code",
   "execution_count": 6,
   "metadata": {},
   "outputs": [],
   "source": [
    "#train_data = train_data.map_batches(du.preprocess_batch, fn_kwargs={'bucket_name':'mnist'})\n",
    "train_data = train_data.map_batches(du.ProcessBatch, compute=ray.data.ActorPoolStrategy(size=2), fn_constructor_kwargs={'bucket_name':'mnist'})"
   ]
  },
  {
   "cell_type": "code",
   "execution_count": 7,
   "metadata": {},
   "outputs": [
    {
     "name": "stdout",
     "output_type": "stream",
     "text": [
      "MapBatches(ProcessBatch)\n",
      "+- Dataset(num_blocks=5, num_rows=60000, schema={X: string, y: int64})\n"
     ]
    }
   ],
   "source": [
    "print(train_data)"
   ]
  },
  {
   "cell_type": "code",
   "execution_count": 8,
   "metadata": {},
   "outputs": [
    {
     "name": "stderr",
     "output_type": "stream",
     "text": [
      "2023-12-04 08:09:14,475\tINFO streaming_executor.py:104 -- Executing DAG InputDataBuffer[Input] -> ActorPoolMapOperator[MapBatches(ProcessBatch)]\n",
      "2023-12-04 08:09:14,476\tINFO streaming_executor.py:105 -- Execution config: ExecutionOptions(resource_limits=ExecutionResources(cpu=None, gpu=None, object_store_memory=None), locality_with_output=False, preserve_order=False, actor_locality_enabled=True, verbose_progress=True)\n",
      "2023-12-04 08:09:14,488\tINFO actor_pool_map_operator.py:114 -- MapBatches(ProcessBatch): Waiting for 2 pool actors to start...\n"
     ]
    },
    {
     "data": {
      "application/vnd.jupyter.widget-view+json": {
       "model_id": "c25c9e6e691c4bd59291dc1763172119",
       "version_major": 2,
       "version_minor": 0
      },
      "text/plain": [
       "- MapBatches(ProcessBatch) 1:   0%|          | 0/5 [00:00<?, ?it/s]"
      ]
     },
     "metadata": {},
     "output_type": "display_data"
    },
    {
     "data": {
      "application/vnd.jupyter.widget-view+json": {
       "model_id": "abd03d6330554c64b6c66a8712812f11",
       "version_major": 2,
       "version_minor": 0
      },
      "text/plain": [
       "Running 0:   0%|          | 0/5 [00:00<?, ?it/s]"
      ]
     },
     "metadata": {},
     "output_type": "display_data"
    },
    {
     "name": "stdout",
     "output_type": "stream",
     "text": [
      "\u001b[36m(_MapWorker pid=23826)\u001b[0m 23826 2023-12-04 08:09:15,610 | INFO | ProcessBatch object created. bucket_name: mnist.\n",
      "\u001b[36m(MapWorker(MapBatches(ProcessBatch)) pid=23826)\u001b[0m 23826 2023-12-04 08:09:16,874 | INFO | Batch retrieval successful for bucket: mnist in MinIO object storage.\n",
      "\u001b[36m(_MapWorker pid=23825)\u001b[0m 23825 2023-12-04 08:09:15,648 | INFO | ProcessBatch object created. bucket_name: mnist.\n",
      "\u001b[36m(MapWorker(MapBatches(ProcessBatch)) pid=23826)\u001b[0m 23826 2023-12-04 08:09:22,700 | INFO | Batch retrieval successful for bucket: mnist in MinIO object storage.\u001b[32m [repeated 10x across cluster] (Ray deduplicates logs by default. Set RAY_DEDUP_LOGS=0 to disable log deduplication, or see https://docs.ray.io/en/master/ray-observability/ray-logging.html#log-deduplication for more options.)\u001b[0m\n",
      "\u001b[36m(MapWorker(MapBatches(ProcessBatch)) pid=23826)\u001b[0m 23826 2023-12-04 08:09:28,616 | INFO | Batch retrieval successful for bucket: mnist in MinIO object storage.\u001b[32m [repeated 10x across cluster]\u001b[0m\n",
      "\u001b[36m(MapWorker(MapBatches(ProcessBatch)) pid=23826)\u001b[0m 23826 2023-12-04 08:09:34,501 | INFO | Batch retrieval successful for bucket: mnist in MinIO object storage.\u001b[32m [repeated 10x across cluster]\u001b[0m\n",
      "\u001b[36m(MapWorker(MapBatches(ProcessBatch)) pid=23825)\u001b[0m 23825 2023-12-04 08:09:40,295 | INFO | Batch retrieval successful for bucket: mnist in MinIO object storage.\u001b[32m [repeated 10x across cluster]\u001b[0m\n",
      "\u001b[36m(MapWorker(MapBatches(ProcessBatch)) pid=23825)\u001b[0m 23825 2023-12-04 08:09:47,478 | INFO | Batch retrieval successful for bucket: mnist in MinIO object storage.\u001b[32m [repeated 9x across cluster]\u001b[0m\n",
      "\u001b[36m(MapWorker(MapBatches(ProcessBatch)) pid=23825)\u001b[0m 23825 2023-12-04 08:09:54,130 | INFO | Batch retrieval successful for bucket: mnist in MinIO object storage.\u001b[32m [repeated 3x across cluster]\u001b[0m\n",
      "\u001b[36m(MapWorker(MapBatches(ProcessBatch)) pid=23825)\u001b[0m 23825 2023-12-04 08:09:59,176 | INFO | Batch retrieval successful for bucket: mnist in MinIO object storage.\u001b[32m [repeated 2x across cluster]\u001b[0m\n",
      "\u001b[36m(MapWorker(MapBatches(ProcessBatch)) pid=23825)\u001b[0m 23825 2023-12-04 08:10:05,164 | INFO | Batch retrieval successful for bucket: mnist in MinIO object storage.\u001b[32m [repeated 3x across cluster]\u001b[0m\n",
      "<class 'dict'>\n",
      "<class 'torch.Tensor'>\n",
      "Batch size:  400\n",
      "Batch count: 150\n",
      "tensor([[[-1.0000, -1.0000, -1.0000, -1.0000, -1.0000, -1.0000, -1.0000,\n",
      "          -1.0000, -1.0000, -1.0000, -1.0000, -1.0000, -1.0000, -1.0000,\n",
      "          -1.0000, -0.9843, -0.9922, -0.9765, -1.0000, -0.9686, -0.9922,\n",
      "          -0.9608, -0.9451, -1.0000, -1.0000, -1.0000, -1.0000, -1.0000],\n",
      "         [-1.0000, -1.0000, -1.0000, -1.0000, -1.0000, -1.0000, -1.0000,\n",
      "          -1.0000, -0.9686, -0.9843, -0.9922, -0.9686, -0.9529, -0.9686,\n",
      "          -1.0000, -1.0000, -1.0000, -1.0000, -0.9294, -0.9608, -1.0000,\n",
      "          -1.0000, -1.0000, -0.9451, -1.0000, -1.0000, -1.0000, -1.0000],\n",
      "         [-1.0000, -1.0000, -1.0000, -1.0000, -1.0000, -1.0000, -1.0000,\n",
      "          -1.0000, -1.0000, -1.0000, -0.9843, -0.9922, -1.0000, -1.0000,\n",
      "          -1.0000, -1.0000, -0.9216, -1.0000, -1.0000, -0.9922, -1.0000,\n",
      "          -0.8353, -1.0000, -1.0000, -1.0000, -1.0000, -1.0000, -1.0000],\n",
      "         [-1.0000, -1.0000, -1.0000, -1.0000, -1.0000, -1.0000, -1.0000,\n",
      "          -1.0000, -0.9922, -1.0000, -1.0000, -1.0000, -0.9608, -0.9216,\n",
      "          -0.9686, -1.0000, -1.0000, -0.9686, -1.0000, -0.9216, -1.0000,\n",
      "          -1.0000, -1.0000, -0.9137, -1.0000, -1.0000, -1.0000, -1.0000],\n",
      "         [-1.0000, -1.0000, -1.0000, -1.0000, -1.0000, -1.0000, -1.0000,\n",
      "          -1.0000, -1.0000, -0.9294, -0.9137, -1.0000, -1.0000, -1.0000,\n",
      "          -1.0000, -0.9529, -1.0000, -0.8196, -1.0000, -0.9843, -1.0000,\n",
      "          -1.0000, -1.0000, -1.0000, -1.0000, -1.0000, -1.0000, -1.0000],\n",
      "         [-1.0000, -1.0000, -1.0000, -1.0000, -1.0000, -1.0000, -1.0000,\n",
      "          -1.0000, -1.0000, -1.0000, -1.0000, -1.0000, -0.7098, -0.3255,\n",
      "          -0.0902, -0.0353,  1.0000,  0.7882, -0.1608, -0.9529, -1.0000,\n",
      "          -0.9843, -0.9216, -1.0000, -1.0000, -1.0000, -1.0000, -1.0000],\n",
      "         [-1.0000, -1.0000, -1.0000, -1.0000, -1.0000, -1.0000, -1.0000,\n",
      "          -1.0000, -0.8902, -1.0000, -0.9294, -0.3804,  0.4902,  1.0000,\n",
      "           1.0000,  0.8745,  0.9608,  1.0000,  0.7804, -0.5137, -0.9294,\n",
      "          -0.9843, -1.0000, -1.0000, -1.0000, -1.0000, -1.0000, -1.0000],\n",
      "         [-1.0000, -1.0000, -1.0000, -1.0000, -1.0000, -1.0000, -1.0000,\n",
      "          -1.0000, -0.9686, -0.3333,  0.4275,  0.8824,  1.0000,  0.9843,\n",
      "           0.8980,  0.8196,  0.8510,  0.9765,  1.0000, -0.5529, -1.0000,\n",
      "          -0.9373, -1.0000, -0.8824, -1.0000, -1.0000, -1.0000, -1.0000],\n",
      "         [-0.9451, -1.0000, -0.9686, -1.0000, -1.0000, -0.9765, -1.0000,\n",
      "          -0.9608, -0.3569,  1.0000,  0.9451,  1.0000,  1.0000, -0.1765,\n",
      "          -0.1137, -0.7882,  0.1451,  0.9373,  1.0000, -0.4667, -1.0000,\n",
      "          -0.9059, -1.0000, -0.9843, -1.0000, -1.0000, -1.0000, -1.0000],\n",
      "         [-1.0000, -1.0000, -0.9922, -1.0000, -1.0000, -0.8353, -1.0000,\n",
      "          -0.7647,  0.9765,  0.9216,  1.0000,  0.1529, -1.0000, -1.0000,\n",
      "          -0.9922, -0.9137,  0.2078,  0.8431,  1.0000, -0.3490, -1.0000,\n",
      "          -1.0000, -0.9608, -1.0000, -1.0000, -1.0000, -1.0000, -1.0000],\n",
      "         [-1.0000, -0.9216, -1.0000, -1.0000, -1.0000, -0.9216, -1.0000,\n",
      "          -0.2235,  1.0000,  0.9216,  0.8118, -0.4902, -0.9529, -1.0000,\n",
      "          -0.9686, -1.0000,  0.1137,  1.0000,  0.9216, -0.1529, -0.6000,\n",
      "           0.0824,  0.4196, -0.8039, -1.0000, -1.0000, -1.0000, -1.0000],\n",
      "         [-0.9843, -0.9373, -1.0000, -0.9451, -1.0000, -1.0000, -0.5373,\n",
      "           0.6078,  0.9608,  0.8745, -0.4980, -1.0000, -0.9529, -1.0000,\n",
      "          -0.9529, -0.9137, -0.0431,  0.8039,  0.7569,  1.0000,  0.6941,\n",
      "           0.9059,  1.0000, -0.4196, -1.0000, -1.0000, -1.0000, -1.0000],\n",
      "         [-1.0000, -0.9922, -1.0000, -0.9451, -0.9451, -1.0000,  0.2157,\n",
      "           1.0000,  0.9843,  0.0667, -0.9529, -0.9843, -0.9765, -1.0000,\n",
      "          -1.0000, -0.9765, -1.0000, -0.6235, -0.2000,  0.8824,  0.9294,\n",
      "           1.0000,  0.4980, -0.7333, -1.0000, -1.0000, -1.0000, -1.0000],\n",
      "         [-1.0000, -0.9843, -1.0000, -1.0000, -0.9451, -0.9137,  0.4196,\n",
      "           1.0000,  1.0000, -0.0353, -0.8667, -1.0000, -0.9529, -1.0000,\n",
      "          -0.8275, -0.9686, -0.9294, -0.9843, -0.0902,  1.0000,  1.0000,\n",
      "           0.5922, -0.7412, -1.0000, -1.0000, -1.0000, -1.0000, -1.0000],\n",
      "         [-1.0000, -0.9843, -0.9765, -1.0000, -1.0000, -0.9765, -0.0196,\n",
      "           0.8510,  0.8431,  0.3333, -1.0000, -1.0000, -1.0000, -0.9608,\n",
      "          -1.0000, -1.0000, -0.9608, -0.0353,  0.9608,  1.0000,  0.8275,\n",
      "          -0.1843, -1.0000, -1.0000, -1.0000, -1.0000, -1.0000, -1.0000],\n",
      "         [-1.0000, -1.0000, -0.9294, -0.9843, -1.0000, -1.0000, -0.4588,\n",
      "           1.0000,  0.9843,  0.1137, -0.9686, -0.9608, -0.8824, -1.0000,\n",
      "          -0.9059, -0.5216,  0.3412,  1.0000,  0.9843,  0.9216,  0.8118,\n",
      "          -0.9608, -0.9922, -0.9216, -1.0000, -1.0000, -1.0000, -1.0000],\n",
      "         [-0.9529, -1.0000, -0.9686, -1.0000, -0.9843, -1.0000, -0.7176,\n",
      "           0.6235,  0.9608,  0.5373, -0.8039, -1.0000, -0.9529, -0.9608,\n",
      "           0.1686,  1.0000,  0.9843,  0.9451,  1.0000,  0.9922, -0.2314,\n",
      "          -0.8745, -1.0000, -1.0000, -1.0000, -1.0000, -1.0000, -1.0000],\n",
      "         [-1.0000, -1.0000, -0.9373, -1.0000, -0.9765, -1.0000, -0.9137,\n",
      "          -0.0667,  1.0000,  1.0000,  0.6471, -0.2941, -0.0980,  0.9451,\n",
      "           1.0000,  1.0000,  1.0000,  0.9765,  1.0000,  0.5922, -0.9529,\n",
      "          -1.0000, -1.0000, -1.0000, -1.0000, -1.0000, -1.0000, -1.0000],\n",
      "         [-1.0000, -1.0000, -0.9373, -1.0000, -1.0000, -0.9608, -1.0000,\n",
      "          -0.7882,  0.6000,  1.0000,  0.7569,  1.0000,  1.0000,  0.8980,\n",
      "           0.9529,  0.9137,  0.9608,  1.0000,  0.9608, -0.1765, -1.0000,\n",
      "          -1.0000, -0.9059, -0.9608, -1.0000, -1.0000, -1.0000, -1.0000],\n",
      "         [-0.9686, -1.0000, -0.9608, -1.0000, -1.0000, -0.9294, -1.0000,\n",
      "          -1.0000, -0.5922, -0.0275,  0.8510,  0.6549,  0.5529,  0.6863,\n",
      "          -0.1373,  0.5294,  0.8745,  1.0000,  0.2706, -0.9608, -0.8902,\n",
      "          -1.0000, -1.0000, -0.9922, -1.0000, -1.0000, -1.0000, -1.0000],\n",
      "         [-0.9529, -1.0000, -0.9843, -1.0000, -1.0000, -0.9686, -0.9686,\n",
      "          -1.0000, -1.0000, -0.9373, -1.0000, -1.0000, -0.9451, -1.0000,\n",
      "          -0.7647,  0.7255,  1.0000,  1.0000, -0.6078, -1.0000, -1.0000,\n",
      "          -0.9216, -1.0000, -0.9608, -1.0000, -1.0000, -1.0000, -1.0000],\n",
      "         [-0.9922, -1.0000, -0.9843, -0.9529, -1.0000, -1.0000, -0.9843,\n",
      "          -0.9843, -0.9922, -0.9216, -1.0000, -1.0000, -0.9059, -0.9922,\n",
      "          -0.3804,  1.0000,  1.0000,  0.8431, -0.8745, -0.8745, -1.0000,\n",
      "          -0.9922, -0.9608, -0.9843, -1.0000, -1.0000, -1.0000, -1.0000],\n",
      "         [-1.0000, -0.9922, -1.0000, -0.9765, -0.9765, -1.0000, -1.0000,\n",
      "          -1.0000, -1.0000, -1.0000, -0.9216, -0.9922, -1.0000, -1.0000,\n",
      "          -0.0667,  0.9529,  0.8902,  0.5608, -0.8353, -0.9373, -0.9922,\n",
      "          -1.0000, -0.9608, -1.0000, -1.0000, -1.0000, -1.0000, -1.0000],\n",
      "         [-1.0000, -0.9373, -1.0000, -1.0000, -0.9686, -0.9686, -0.9765,\n",
      "          -1.0000, -0.9216, -1.0000, -0.9765, -0.9843, -1.0000, -0.9451,\n",
      "           0.5922,  0.9216,  1.0000,  0.8667, -0.7961, -0.9686, -1.0000,\n",
      "          -0.8824, -1.0000, -0.9059, -1.0000, -1.0000, -1.0000, -1.0000],\n",
      "         [-1.0000, -1.0000, -1.0000, -1.0000, -1.0000, -1.0000, -1.0000,\n",
      "          -1.0000, -1.0000, -0.9137, -1.0000, -1.0000, -0.9686, -1.0000,\n",
      "          -0.3412,  0.9059,  0.9059, -0.4196, -1.0000, -0.9294, -0.9686,\n",
      "          -1.0000, -0.9765, -1.0000, -1.0000, -1.0000, -1.0000, -1.0000],\n",
      "         [-1.0000, -1.0000, -1.0000, -1.0000, -1.0000, -1.0000, -1.0000,\n",
      "          -1.0000, -1.0000, -0.9451, -1.0000, -1.0000, -0.9373, -1.0000,\n",
      "          -1.0000, -0.8510, -0.8353, -1.0000, -1.0000, -0.8980, -1.0000,\n",
      "          -1.0000, -0.9608, -1.0000, -1.0000, -1.0000, -1.0000, -1.0000],\n",
      "         [-1.0000, -1.0000, -1.0000, -1.0000, -1.0000, -1.0000, -1.0000,\n",
      "          -1.0000, -1.0000, -0.9373, -1.0000, -1.0000, -1.0000, -0.9373,\n",
      "          -1.0000, -1.0000, -1.0000, -1.0000, -0.9294, -1.0000, -1.0000,\n",
      "          -1.0000, -0.9137, -0.9843, -1.0000, -1.0000, -1.0000, -1.0000],\n",
      "         [-1.0000, -1.0000, -1.0000, -1.0000, -1.0000, -1.0000, -1.0000,\n",
      "          -1.0000, -1.0000, -1.0000, -0.9843, -0.9294, -0.9608, -1.0000,\n",
      "          -0.9843, -0.9529, -0.9686, -0.9529, -0.9843, -1.0000, -0.9608,\n",
      "          -0.9686, -1.0000, -1.0000, -1.0000, -1.0000, -1.0000, -1.0000]]])\n",
      "tensor(9.)\n"
     ]
    }
   ],
   "source": [
    "batch_count = 0\n",
    "batch_size = 0\n",
    "for batch in train_data.iter_torch_batches(batch_size=400, dtypes=torch.float32):\n",
    "    if batch_size == 0: batch_size = len(batch['X'])\n",
    "    images, labels = batch['X'], batch['y']\n",
    "    batch_count += 1\n",
    "else:\n",
    "    print(type(batch))\n",
    "    print(type(images))\n",
    "    print('Batch size: ', batch_size)\n",
    "    print('Batch count:', batch_count)\n",
    "    print(images[0])\n",
    "    print(labels[0])"
   ]
  },
  {
   "cell_type": "code",
   "execution_count": 9,
   "metadata": {},
   "outputs": [],
   "source": [
    "#train_data.count()"
   ]
  }
 ],
 "metadata": {
  "kernelspec": {
   "display_name": ".venv",
   "language": "python",
   "name": "python3"
  },
  "language_info": {
   "codemirror_mode": {
    "name": "ipython",
    "version": 3
   },
   "file_extension": ".py",
   "mimetype": "text/x-python",
   "name": "python",
   "nbconvert_exporter": "python",
   "pygments_lexer": "ipython3",
   "version": "3.11.3"
  },
  "orig_nbformat": 4
 },
 "nbformat": 4,
 "nbformat_minor": 2
}

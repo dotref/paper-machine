{
 "cells": [
  {
   "cell_type": "code",
   "execution_count": null,
   "id": "e829e2a9-ac4c-4543-b204-bff6ea942604",
   "metadata": {},
   "outputs": [],
   "source": [
    "%%sql\n",
    "\n",
    "CREATE DATABASE IF NOT EXISTS noaa;"
   ]
  },
  {
   "cell_type": "code",
   "execution_count": null,
   "id": "d03ad5eb-7d04-4d2d-85fb-629c20ed90fc",
   "metadata": {},
   "outputs": [],
   "source": [
    "%%sql\n",
    "DROP TABLE IF EXISTS noaa.gsod;"
   ]
  },
  {
   "cell_type": "code",
   "execution_count": null,
   "id": "8c65eb28-eecc-44e4-90b5-f2a3fe9558b8",
   "metadata": {},
   "outputs": [],
   "source": [
    "%%sql\n",
    "CREATE TABLE IF NOT EXISTS noaa.gsod (\n",
    "    station               string,\n",
    "    date                  timestamp,\n",
    "    latitude              double,\n",
    "    longitude             double,\n",
    "    name                  string,\n",
    "    temp                  double\n",
    ")\n",
    "USING iceberg\n",
    "PARTITIONED BY (station)"
   ]
  }
 ],
 "metadata": {
  "kernelspec": {
   "display_name": "Python 3 (ipykernel)",
   "language": "python",
   "name": "python3"
  },
  "language_info": {
   "codemirror_mode": {
    "name": "ipython",
    "version": 3
   },
   "file_extension": ".py",
   "mimetype": "text/x-python",
   "name": "python",
   "nbconvert_exporter": "python",
   "pygments_lexer": "ipython3",
   "version": "3.9.17"
  }
 },
 "nbformat": 4,
 "nbformat_minor": 5
}

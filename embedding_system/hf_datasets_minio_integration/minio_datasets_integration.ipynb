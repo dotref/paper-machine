{
 "cells": [
  {
   "cell_type": "code",
   "execution_count": null,
   "metadata": {},
   "outputs": [],
   "source": [
    "import json\n",
    "from typing import Dict\n",
    "\n",
    "from utils import get_object, put_file, get_object_list, put_text, get_text"
   ]
  },
  {
   "cell_type": "markdown",
   "metadata": {},
   "source": [
    "#### Introduction\n"
   ]
  },
  {
   "cell_type": "code",
   "execution_count": null,
   "metadata": {},
   "outputs": [],
   "source": [
    "from datasets import load_dataset\n",
    "emotions = load_dataset('emotion')\n",
    "print(type(emotions))\n",
    "print(type(emotions['train']))\n",
    "print(emotions)"
   ]
  },
  {
   "cell_type": "code",
   "execution_count": null,
   "metadata": {},
   "outputs": [],
   "source": [
    "for split, dataset in emotions.items():\n",
    "    dataset.to_parquet(f'reviews-{split}.parquet')\n",
    "    #put_file(bucket_name, f'emotions-{split}.csv', f'emotions-{split}.csv')"
   ]
  },
  {
   "cell_type": "code",
   "execution_count": null,
   "metadata": {},
   "outputs": [],
   "source": [
    "bucket_name = 'review-data'\n",
    "for split in ['train', 'validation', 'test']:\n",
    "    put_file(bucket_name, f'reviews-{split}.csv', f'reviews-{split}.csv')"
   ]
  },
  {
   "cell_type": "markdown",
   "metadata": {},
   "source": [
    "#### Features and Benefits"
   ]
  },
  {
   "cell_type": "code",
   "execution_count": null,
   "metadata": {},
   "outputs": [],
   "source": [
    "from transformers import AutoTokenizer\n",
    "from transformers.tokenization_utils_base import BatchEncoding\n",
    "\n",
    "model_check_point = 'distilbert-base-uncased'\n",
    "tokenizer = AutoTokenizer.from_pretrained(model_check_point)\n",
    "\n",
    "def tokenize(batch) -> BatchEncoding:\n",
    "  out = tokenizer(batch['text'], padding=True, truncation=True, return_tensors='pt')\n",
    "  return out\n",
    "\n",
    "emotions_encoded = emotions.map(tokenize, batched=True, batch_size=None)\n",
    "emotions_encoded['train'][0].keys()"
   ]
  },
  {
   "cell_type": "markdown",
   "metadata": {},
   "source": [
    "#### Load Existing Object into a Dataset"
   ]
  },
  {
   "cell_type": "code",
   "execution_count": null,
   "metadata": {},
   "outputs": [],
   "source": [
    "from utils import get_object\n",
    "data_files = {}\n",
    "data_files['train'] = 'reviews-train.csv'\n",
    "data_files['validation'] = 'reviews-validation.csv'\n",
    "data_files['test'] = 'reviews-test.csv'\n",
    "\n",
    "for split in data_files.keys(): #['train', 'validation', 'test']:\n",
    "    object_info = get_object(bucket_name, data_files[split], data_files[split])\n",
    "    print(object_info.object_name, object_info.last_modified)\n",
    "\n",
    "reviews = load_dataset('csv', data_files=data_files)\n",
    "print(type(reviews))\n",
    "print(type(reviews['train']))\n",
    "print(reviews)"
   ]
  },
  {
   "cell_type": "markdown",
   "metadata": {},
   "source": [
    "#### Hugging Face’s S3 Interface"
   ]
  },
  {
   "cell_type": "code",
   "execution_count": null,
   "metadata": {},
   "outputs": [],
   "source": [
    "from s3fs import S3FileSystem\n",
    "\n",
    "data_files = {}\n",
    "data_files['train'] = 'reviews-train.csv'\n",
    "data_files['validation'] = 'reviews-validation.csv'\n",
    "data_files['test'] = 'reviews-test.csv'\n",
    "\n",
    "url = 'http://localhost:9000'\n",
    "bucket_name = 'review-data'\n",
    "\n",
    "# Load the credentials and connection information.\n",
    "with open('credentials.json') as f:\n",
    "    credentials = json.load(f)\n",
    "\n",
    "s3 = S3FileSystem(key=credentials['accessKey'], secret=credentials['secretKey'], endpoint_url=url, use_ssl=False)\n",
    "objects = s3.ls(bucket_name)\n",
    "\n",
    "for split in data_files.keys(): #['train', 'validation', 'test']:\n",
    "    object_name = f'{bucket_name}/{data_files[split]}'\n",
    "    s3.download(object_name, data_files[split])\n",
    "\n",
    "reviews = load_dataset('csv', data_files=data_files)\n",
    "print(type(reviews))\n",
    "print(type(reviews['train']))\n",
    "print(reviews)"
   ]
  },
  {
   "cell_type": "markdown",
   "metadata": {},
   "source": [
    "#### Break a large document into paragraphs"
   ]
  },
  {
   "cell_type": "code",
   "execution_count": null,
   "metadata": {},
   "outputs": [],
   "source": [
    "bucket_name = 'philosophy-corpus'\n",
    "file_name = 'gutenberg.org_cache_epub_1232_pg1232.txt'\n",
    "author = 'Niccolo Machiavelli'  # This should be 'Niccolò Machiavelli' but MinIO only supports US ASCII. \n",
    "title = 'The Prince'\n",
    "\n",
    "# Open and read in the entire file.\n",
    "file_handle = open(file_name, 'r')\n",
    "file_text = file_handle.read()\n",
    "file_handle.close()\n",
    "\n",
    "count = 0\n",
    "paragraphs = []\n",
    "for paragraph in file_text.split(\"\\n\\n\"):\n",
    "    # Skip empty paragraphs. \n",
    "    if not paragraph.strip():\n",
    "        continue \n",
    "    count += 1\n",
    "    object_name = f'{author}_{title}_{count:06d}.txt'\n",
    "    metadata = {'author': author, 'title': title}\n",
    "    put_text(bucket_name, object_name, paragraph, metadata=metadata)\n",
    "\n",
    "count"
   ]
  },
  {
   "cell_type": "markdown",
   "metadata": {},
   "source": [
    "#### Use a Python Generator for Large Datasets"
   ]
  },
  {
   "cell_type": "code",
   "execution_count": null,
   "metadata": {},
   "outputs": [],
   "source": [
    "from multiprocessing import cpu_count\n",
    "from datasets.arrow_dataset import Dataset\n",
    "from utils import get_object_list, get_text\n",
    "\n",
    "bucket_name = 'philosophy-corpus'\n",
    "#num_proc = cpu_count()\n",
    "\n",
    "def document_generator(bucket_name: str) -> Dict:\n",
    "    object_list = []\n",
    "\n",
    "    if len(object_list) == 0:\n",
    "        print('Retrieving document list.')\n",
    "        bucket_name = 'philosophy-corpus'\n",
    "        object_list = get_object_list(bucket_name)\n",
    "    \n",
    "    for index in range(0, len(object_list)):\n",
    "        #print(index)\n",
    "        yield {'text': get_text(bucket_name, object_list[index])}\n",
    "\n",
    "ds = Dataset.from_generator(document_generator, \n",
    "                            cache_dir='./.cache/huggingface/datasets', \n",
    "                            gen_kwargs={'bucket_name': bucket_name},\n",
    "                            keep_in_memory=False)\n",
    "                            #num_proc=num_proc)\n",
    "\n",
    "print(type(ds))\n",
    "print(ds[6])"
   ]
  },
  {
   "cell_type": "code",
   "execution_count": null,
   "metadata": {},
   "outputs": [],
   "source": [
    "from datasets.dataset_dict import DatasetDict\n",
    "\n",
    "dd = DatasetDict({'train': ds})\n",
    "dd"
   ]
  }
 ],
 "metadata": {
  "kernelspec": {
   "display_name": ".venv",
   "language": "python",
   "name": "python3"
  },
  "language_info": {
   "codemirror_mode": {
    "name": "ipython",
    "version": 3
   },
   "file_extension": ".py",
   "mimetype": "text/x-python",
   "name": "python",
   "nbconvert_exporter": "python",
   "pygments_lexer": "ipython3",
   "version": "3.11.3"
  },
  "orig_nbformat": 4
 },
 "nbformat": 4,
 "nbformat_minor": 2
}

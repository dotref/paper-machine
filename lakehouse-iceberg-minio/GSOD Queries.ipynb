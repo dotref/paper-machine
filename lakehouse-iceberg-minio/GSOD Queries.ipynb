{
 "cells": [
  {
   "cell_type": "code",
   "execution_count": null,
   "id": "acdf1b4c-2484-48ad-9607-43111d0bed26",
   "metadata": {},
   "outputs": [],
   "source": [
    "from pyiceberg.catalog import load_catalog\n",
    "from pyiceberg.expressions import GreaterThanOrEqual, EqualTo\n",
    "import pandas as pd\n",
    "import seaborn as sns\n",
    "\n",
    "pd.options.mode.chained_assignment = None\n",
    "catalog = load_catalog('default')\n",
    "catalog.list_namespaces()"
   ]
  },
  {
   "cell_type": "code",
   "execution_count": null,
   "id": "ecaf375f-a2c6-43e0-8ac9-e9c66ea7eac9",
   "metadata": {},
   "outputs": [],
   "source": [
    "catalog.list_tables('noaa')"
   ]
  },
  {
   "cell_type": "code",
   "execution_count": null,
   "id": "9a860056-82b0-4a0a-87e5-569dccf2736b",
   "metadata": {},
   "outputs": [],
   "source": [
    "tbl = catalog.load_table('noaa.gsod')\n",
    "\n",
    "sc = tbl.scan(row_filter=\"station == '72502014734'\")\n",
    "#sc = tbl.scan(row_filter=\"station == '03804099999' AND date == '1929-01-01T00:00:00.000000+00:00'\")\n",
    "#sc = tbl.scan(row_filter=\"date < '1930-01-01T00:00:00.000000+00:00'\")\n",
    "#sc = tbl.scan(row_filter=\"name == 'NEWARK LIBERTY INTERNATIONAL AIRPORT, NJ US'\")\n",
    "\n",
    "df = sc.to_arrow().to_pandas()\n",
    "df.head(10)"
   ]
  },
  {
   "cell_type": "code",
   "execution_count": null,
   "id": "8f4450f4-02e3-4851-b933-7f661a9a95b5",
   "metadata": {},
   "outputs": [],
   "source": [
    "len(df)"
   ]
  },
  {
   "cell_type": "code",
   "execution_count": null,
   "id": "99995637-ad1e-43cc-adac-28e45f155b1e",
   "metadata": {},
   "outputs": [],
   "source": [
    "df['year'] = df['date'].dt.year\n",
    "df = df[['year','temp']]\n",
    "grouped_by_year = df.groupby('year')\n",
    "average_by_year = grouped_by_year.mean()\n",
    "average_by_year"
   ]
  },
  {
   "cell_type": "code",
   "execution_count": null,
   "id": "bb8bbb05-0aed-4e87-885b-5d46372aad3f",
   "metadata": {},
   "outputs": [],
   "source": [
    "sns.lineplot(data=df, x=\"year\", y=\"temp\")"
   ]
  },
  {
   "cell_type": "code",
   "execution_count": null,
   "id": "2b8a8e0f-0df6-478e-af77-2aef1978bd2a",
   "metadata": {},
   "outputs": [],
   "source": [
    "#df.to_csv('1929_all_stations.csv')"
   ]
  },
  {
   "cell_type": "code",
   "execution_count": null,
   "id": "6a9f8e20-1043-4a32-824a-46a947ab39b5",
   "metadata": {},
   "outputs": [],
   "source": []
  }
 ],
 "metadata": {
  "kernelspec": {
   "display_name": "Python 3 (ipykernel)",
   "language": "python",
   "name": "python3"
  },
  "language_info": {
   "codemirror_mode": {
    "name": "ipython",
    "version": 3
   },
   "file_extension": ".py",
   "mimetype": "text/x-python",
   "name": "python",
   "nbconvert_exporter": "python",
   "pygments_lexer": "ipython3",
   "version": "3.9.17"
  }
 },
 "nbformat": 4,
 "nbformat_minor": 5
}

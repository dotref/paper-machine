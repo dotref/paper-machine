{
 "cells": [
  {
   "cell_type": "code",
   "execution_count": null,
   "metadata": {},
   "outputs": [],
   "source": [
    "from dotenv import load_dotenv\n",
    "import nest_asyncio\n",
    "nest_asyncio.apply()\n",
    "import os\n",
    "load_dotenv()\n",
    "os.environ['OPENAI_API_KEY'] = os.getenv('OPENAI_API_KEY')"
   ]
  },
  {
   "cell_type": "code",
   "execution_count": 23,
   "metadata": {},
   "outputs": [
    {
     "name": "stdout",
     "output_type": "stream",
     "text": [
      "Getting tools for paper: batman.txt\n",
      "Getting tools for paper: BTS.txt\n",
      "Getting tools for paper: iPhone.txt\n"
     ]
    }
   ],
   "source": [
    "from utils.helpers import get_doc_tools\n",
    "from pathlib import Path\n",
    "\n",
    "\n",
    "papers = [\n",
    "    \"batman.txt\",\n",
    "    \"BTS.txt\",\n",
    "    \"iPhone.txt\"\n",
    "]\n",
    "\n",
    "paper_to_tools_dict = {}\n",
    "for paper in papers:\n",
    "    print(f\"Getting tools for paper: {paper}\")\n",
    "    vector_tool, summary_tool = get_doc_tools(paper, Path(paper).stem)\n",
    "    paper_to_tools_dict[paper] = [vector_tool, summary_tool]"
   ]
  },
  {
   "cell_type": "code",
   "execution_count": 24,
   "metadata": {},
   "outputs": [],
   "source": [
    "initial_tools = [t for paper in papers for t in paper_to_tools_dict[paper]]"
   ]
  },
  {
   "cell_type": "code",
   "execution_count": 25,
   "metadata": {},
   "outputs": [],
   "source": [
    "from llama_index.llms.openai import OpenAI\n",
    "\n",
    "llm = OpenAI(model=\"gpt-3.5-turbo\")"
   ]
  },
  {
   "cell_type": "code",
   "execution_count": 26,
   "metadata": {},
   "outputs": [
    {
     "data": {
      "text/plain": [
       "6"
      ]
     },
     "execution_count": 26,
     "metadata": {},
     "output_type": "execute_result"
    }
   ],
   "source": [
    "len(initial_tools)"
   ]
  },
  {
   "cell_type": "code",
   "execution_count": 27,
   "metadata": {},
   "outputs": [],
   "source": [
    "from llama_index.core.agent import FunctionCallingAgentWorker\n",
    "from llama_index.core.agent import AgentRunner\n",
    "\n",
    "agent_worker = FunctionCallingAgentWorker.from_tools(\n",
    "    initial_tools, \n",
    "    llm=llm, \n",
    "    verbose=True\n",
    ")\n",
    "agent = AgentRunner(agent_worker)"
   ]
  },
  {
   "cell_type": "code",
   "execution_count": 28,
   "metadata": {},
   "outputs": [
    {
     "name": "stdout",
     "output_type": "stream",
     "text": [
      "Added user message to memory: Tell me about iphone\n",
      "=== Calling Function ===\n",
      "Calling function: summary_tool_iPhone with args: {\"input\": \"iPhone\"}\n",
      "=== Function Output ===\n",
      "The iPhone is a line of smartphones developed and marketed by Apple that run iOS, the company's own mobile operating system. It was first announced by then–Apple CEO Steve Jobs on January 9, 2007, at Macworld 2007, and launched later that year. Since then, Apple has annually released new iPhone models and iOS versions. The iPhone has been credited with popularizing the slate smartphone form factor and creating a large market for smartphone apps through the App Store. As of January 1, 2024, more than 2.3 billion iPhones have been sold, making Apple the largest vendor of mobile phones in 2023.\n",
      "=== LLM Response ===\n",
      "The iPhone is a line of smartphones developed and marketed by Apple that run iOS, the company's own mobile operating system. It was first announced by then–Apple CEO Steve Jobs on January 9, 2007, at Macworld 2007, and launched later that year. Since then, Apple has annually released new iPhone models and iOS versions. The iPhone has been credited with popularizing the slate smartphone form factor and creating a large market for smartphone apps through the App Store. As of January 1, 2024, more than 2.3 billion iPhones have been sold, making Apple the largest vendor of mobile phones in 2023.\n",
      "The iPhone is a line of smartphones developed and marketed by Apple that run iOS, the company's own mobile operating system. It was first announced by then–Apple CEO Steve Jobs on January 9, 2007, at Macworld 2007, and launched later that year. Since then, Apple has annually released new iPhone models and iOS versions. The iPhone has been credited with popularizing the slate smartphone form factor and creating a large market for smartphone apps through the App Store. As of January 1, 2024, more than 2.3 billion iPhones have been sold, making Apple the largest vendor of mobile phones in 2023.\n"
     ]
    }
   ],
   "source": [
    "response = agent.query(\"Tell me about iphone\")\n",
    "print(str(response))"
   ]
  },
  {
   "cell_type": "code",
   "execution_count": 29,
   "metadata": {},
   "outputs": [
    {
     "name": "stdout",
     "output_type": "stream",
     "text": [
      "Added user message to memory: What's the diff between Iphone and batman?\n",
      "=== Calling Function ===\n",
      "Calling function: summary_tool_iPhone with args: {\"input\": \"Difference between iPhone and Batman\"}\n",
      "=== Function Output ===\n",
      "The iPhone is a line of smartphones developed and marketed by Apple that run iOS, the company's own mobile operating system. It has been credited with popularizing the slate smartphone form factor and creating a large market for smartphone apps. On the other hand, Batman is a fictional superhero appearing in American comic books published by DC Comics. Batman is known for his detective skills, martial arts abilities, and use of advanced technology and gadgets to fight crime in Gotham City.\n",
      "=== Calling Function ===\n",
      "Calling function: summary_tool_batman with args: {\"input\": \"Difference between iPhone and Batman\"}\n",
      "=== Function Output ===\n",
      "iPhone is a popular smartphone developed by Apple Inc., known for its touchscreen interface and various features like apps, camera, and internet connectivity. On the other hand, Batman is a fictional superhero character created by DC Comics, known for his crime-fighting abilities, detective skills, and iconic bat-inspired persona. While iPhone is a technological device, Batman is a cultural icon in the realm of comic books and popular culture.\n",
      "=== LLM Response ===\n",
      "The iPhone is a line of smartphones developed by Apple that run iOS, while Batman is a fictional superhero known for his detective skills and use of advanced technology to fight crime. The iPhone is a technological device, whereas Batman is a cultural icon in the realm of comic books and popular culture.\n",
      "The iPhone is a line of smartphones developed by Apple that run iOS, while Batman is a fictional superhero known for his detective skills and use of advanced technology to fight crime. The iPhone is a technological device, whereas Batman is a cultural icon in the realm of comic books and popular culture.\n"
     ]
    }
   ],
   "source": [
    "response = agent.query(\"What's the diff between Iphone and batman?\")\n",
    "print(str(response))"
   ]
  },
  {
   "cell_type": "code",
   "execution_count": 30,
   "metadata": {},
   "outputs": [],
   "source": [
    "# define an \"object\" index and retriever over these tools\n",
    "from llama_index.core import VectorStoreIndex\n",
    "from llama_index.core.objects import ObjectIndex\n",
    "all_tools = [t for paper in papers for t in paper_to_tools_dict[paper]]\n",
    "obj_index = ObjectIndex.from_objects(\n",
    "    all_tools,\n",
    "    index_cls=VectorStoreIndex,\n",
    ")"
   ]
  },
  {
   "cell_type": "code",
   "execution_count": 31,
   "metadata": {},
   "outputs": [],
   "source": [
    "obj_retriever = obj_index.as_retriever(similarity_top_k=3)"
   ]
  },
  {
   "cell_type": "code",
   "execution_count": 32,
   "metadata": {},
   "outputs": [],
   "source": [
    "tools = obj_retriever.retrieve(\n",
    "    \"Tell me about the advantage of Iphone over batman\"\n",
    ")"
   ]
  },
  {
   "cell_type": "code",
   "execution_count": 34,
   "metadata": {},
   "outputs": [
    {
     "data": {
      "text/plain": [
       "ToolMetadata(description='Useful for summarization questions related to iPhone', name='summary_tool_iPhone', fn_schema=<class 'llama_index.core.tools.types.DefaultToolFnSchema'>, return_direct=False)"
      ]
     },
     "execution_count": 34,
     "metadata": {},
     "output_type": "execute_result"
    }
   ],
   "source": [
    "tools[1].metadata"
   ]
  },
  {
   "cell_type": "code",
   "execution_count": 35,
   "metadata": {},
   "outputs": [],
   "source": [
    "from llama_index.core.agent import FunctionCallingAgentWorker\n",
    "from llama_index.core.agent import AgentRunner\n",
    "\n",
    "agent_worker = FunctionCallingAgentWorker.from_tools(\n",
    "    tool_retriever=obj_retriever,\n",
    "    llm=llm, \n",
    "    system_prompt=\"\"\" \\\n",
    "You are an agent designed to answer queries over a set of given papers.\n",
    "Please always use the tools provided to answer a question. Do not rely on prior knowledge.\\\n",
    "\n",
    "\"\"\",\n",
    "    verbose=True\n",
    ")\n",
    "agent = AgentRunner(agent_worker)"
   ]
  },
  {
   "cell_type": "code",
   "execution_count": 37,
   "metadata": {},
   "outputs": [
    {
     "name": "stdout",
     "output_type": "stream",
     "text": [
      "Added user message to memory: Tell me about the important advantages of Iphone and compare it against spiderman\n",
      "=== Calling Function ===\n",
      "Calling function: summary_tool_iPhone with args: {\"input\": \"important advantages of iPhone\"}\n",
      "=== Function Output ===\n",
      "The iPhone has been praised for its revolutionary design, user-friendly interface, and the introduction of innovative features such as multi-touch technology, Face ID, and Touch ID. Additionally, the iPhone ecosystem, including the App Store, has been highlighted for its high-quality apps and exclusive releases. The iPhone's premium positioning, security features, and strong privacy measures have also been significant advantages.\n",
      "=== Calling Function ===\n",
      "Calling function: summary_tool_batman with args: {\"input\": \"advantages of Spiderman\"}\n",
      "=== Function Output ===\n",
      "Spiderman is a superhero known for his agility, superhuman strength, ability to cling to walls, and a \"spider-sense\" that warns him of danger. He also possesses web-shooters that allow him to swing between buildings and create web-based traps. Spiderman's quick reflexes and acrobatic skills make him a formidable fighter, and his intelligence aids him in creating innovative solutions to challenges he faces. Additionally, his sense of responsibility and compassion drive him to protect the innocent and fight against villains, making him a beloved and iconic character in popular culture.\n",
      "=== LLM Response ===\n",
      "The important advantages of the iPhone include its revolutionary design, user-friendly interface, innovative features like Face ID and Touch ID, a high-quality app ecosystem, premium positioning, security features, and strong privacy measures. \n",
      "\n",
      "Comparing it to Spiderman, Spiderman is a superhero known for his agility, superhuman strength, ability to cling to walls, \"spider-sense\" that warns him of danger, web-shooters for swinging between buildings, quick reflexes, acrobatic skills, intelligence for problem-solving, sense of responsibility, and compassion for protecting the innocent.\n",
      "The important advantages of the iPhone include its revolutionary design, user-friendly interface, innovative features like Face ID and Touch ID, a high-quality app ecosystem, premium positioning, security features, and strong privacy measures. \n",
      "\n",
      "Comparing it to Spiderman, Spiderman is a superhero known for his agility, superhuman strength, ability to cling to walls, \"spider-sense\" that warns him of danger, web-shooters for swinging between buildings, quick reflexes, acrobatic skills, intelligence for problem-solving, sense of responsibility, and compassion for protecting the innocent.\n"
     ]
    }
   ],
   "source": [
    "response = agent.query(\n",
    "    \"Tell me about the important advantages of Iphone and \"\n",
    "    \"compare it against spiderman\"\n",
    ")\n",
    "print(str(response))"
   ]
  },
  {
   "cell_type": "code",
   "execution_count": null,
   "metadata": {},
   "outputs": [],
   "source": []
  }
 ],
 "metadata": {
  "kernelspec": {
   "display_name": ".venv",
   "language": "python",
   "name": "python3"
  },
  "language_info": {
   "codemirror_mode": {
    "name": "ipython",
    "version": 3
   },
   "file_extension": ".py",
   "mimetype": "text/x-python",
   "name": "python",
   "nbconvert_exporter": "python",
   "pygments_lexer": "ipython3",
   "version": "3.10.12"
  }
 },
 "nbformat": 4,
 "nbformat_minor": 2
}
